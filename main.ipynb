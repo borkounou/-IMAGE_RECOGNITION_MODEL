{
 "cells": [
  {
   "cell_type": "code",
   "execution_count": 30,
   "metadata": {},
   "outputs": [],
   "source": [
    "from PIL import Image\n",
    "from config import TEST_IMAGE_PATH\n",
    "import torch "
   ]
  },
  {
   "cell_type": "code",
   "execution_count": 31,
   "metadata": {},
   "outputs": [],
   "source": [
    "image = Image.open(TEST_IMAGE_PATH)"
   ]
  },
  {
   "cell_type": "code",
   "execution_count": 32,
   "metadata": {},
   "outputs": [],
   "source": [
    "image.show()"
   ]
  },
  {
   "cell_type": "code",
   "execution_count": 33,
   "metadata": {},
   "outputs": [
    {
     "name": "stdout",
     "output_type": "stream",
     "text": [
      "(512, 512)\n"
     ]
    }
   ],
   "source": [
    "print(image.size)"
   ]
  },
  {
   "cell_type": "code",
   "execution_count": 34,
   "metadata": {},
   "outputs": [],
   "source": [
    "new_image = image.resize((512,512))"
   ]
  },
  {
   "cell_type": "code",
   "execution_count": 35,
   "metadata": {},
   "outputs": [],
   "source": [
    "new_image.show()"
   ]
  },
  {
   "cell_type": "code",
   "execution_count": 36,
   "metadata": {},
   "outputs": [
    {
     "data": {
      "text/plain": [
       "PIL.Image.Image"
      ]
     },
     "execution_count": 36,
     "metadata": {},
     "output_type": "execute_result"
    }
   ],
   "source": [
    "type(new_image)"
   ]
  },
  {
   "cell_type": "code",
   "execution_count": 37,
   "metadata": {},
   "outputs": [],
   "source": [
    "img_random = torch.randn(1, 3, 512, 512)"
   ]
  },
  {
   "cell_type": "code",
   "execution_count": 38,
   "metadata": {},
   "outputs": [
    {
     "data": {
      "text/plain": [
       "torch.Size([1, 3, 512, 512])"
      ]
     },
     "execution_count": 38,
     "metadata": {},
     "output_type": "execute_result"
    }
   ],
   "source": [
    "img_random.shape"
   ]
  },
  {
   "cell_type": "code",
   "execution_count": 39,
   "metadata": {},
   "outputs": [],
   "source": [
    "ifs = torch.randn(3,3,2,2)"
   ]
  },
  {
   "cell_type": "code",
   "execution_count": 40,
   "metadata": {},
   "outputs": [
    {
     "data": {
      "text/plain": [
       "tensor([[[[ 0.5961,  1.2326],\n",
       "          [-0.4549,  0.6059]],\n",
       "\n",
       "         [[-1.6369, -1.4780],\n",
       "          [ 0.9037,  1.1977]],\n",
       "\n",
       "         [[ 1.5213, -0.7636],\n",
       "          [-0.5326, -0.8524]]],\n",
       "\n",
       "\n",
       "        [[[ 2.2649, -0.6219],\n",
       "          [ 0.3656, -0.8123]],\n",
       "\n",
       "         [[-0.2593,  0.2897],\n",
       "          [ 0.9866, -0.9219]],\n",
       "\n",
       "         [[-1.4241,  1.1234],\n",
       "          [ 1.4268, -0.1033]]],\n",
       "\n",
       "\n",
       "        [[[-1.1145, -0.0412],\n",
       "          [-1.4116, -1.1526]],\n",
       "\n",
       "         [[-0.5829,  0.2007],\n",
       "          [ 0.2930,  1.1759]],\n",
       "\n",
       "         [[ 1.4145,  0.6994],\n",
       "          [ 0.7569,  1.3521]]]])"
      ]
     },
     "execution_count": 40,
     "metadata": {},
     "output_type": "execute_result"
    }
   ],
   "source": [
    "ifs"
   ]
  },
  {
   "cell_type": "code",
   "execution_count": 41,
   "metadata": {},
   "outputs": [
    {
     "data": {
      "text/plain": [
       "tensor([[[[ 0.5961,  1.2326],\n",
       "          [-0.4549,  0.6059]],\n",
       "\n",
       "         [[-1.6369, -1.4780],\n",
       "          [ 0.9037,  1.1977]],\n",
       "\n",
       "         [[ 1.5213, -0.7636],\n",
       "          [-0.5326, -0.8524]]],\n",
       "\n",
       "\n",
       "        [[[ 2.2649, -0.6219],\n",
       "          [ 0.3656, -0.8123]],\n",
       "\n",
       "         [[-0.2593,  0.2897],\n",
       "          [ 0.9866, -0.9219]],\n",
       "\n",
       "         [[-1.4241,  1.1234],\n",
       "          [ 1.4268, -0.1033]]],\n",
       "\n",
       "\n",
       "        [[[-1.1145, -0.0412],\n",
       "          [-1.4116, -1.1526]],\n",
       "\n",
       "         [[-0.5829,  0.2007],\n",
       "          [ 0.2930,  1.1759]],\n",
       "\n",
       "         [[ 1.4145,  0.6994],\n",
       "          [ 0.7569,  1.3521]]]])"
      ]
     },
     "execution_count": 41,
     "metadata": {},
     "output_type": "execute_result"
    }
   ],
   "source": [
    "ifs"
   ]
  },
  {
   "cell_type": "code",
   "execution_count": 42,
   "metadata": {},
   "outputs": [],
   "source": [
    "import torchvision.transforms as T"
   ]
  },
  {
   "cell_type": "code",
   "execution_count": 52,
   "metadata": {},
   "outputs": [],
   "source": [
    "image_tensor = T.ToTensor()(Image.open(\"./wine_data/train_and_valid/X_train/0.jpg\"))"
   ]
  },
  {
   "cell_type": "code",
   "execution_count": 53,
   "metadata": {},
   "outputs": [
    {
     "data": {
      "text/plain": [
       "torch.Size([3, 256, 256])"
      ]
     },
     "execution_count": 53,
     "metadata": {},
     "output_type": "execute_result"
    }
   ],
   "source": [
    "image_tensor.shape"
   ]
  },
  {
   "cell_type": "code",
   "execution_count": 54,
   "metadata": {},
   "outputs": [],
   "source": [
    "image = Image.open(\"./wine_data/train_and_valid/X_train/0.jpg\")"
   ]
  },
  {
   "cell_type": "code",
   "execution_count": 55,
   "metadata": {},
   "outputs": [],
   "source": [
    "image.show()"
   ]
  },
  {
   "cell_type": "code",
   "execution_count": 56,
   "metadata": {},
   "outputs": [],
   "source": [
    "image = image.resize((512,512))"
   ]
  },
  {
   "cell_type": "code",
   "execution_count": 57,
   "metadata": {},
   "outputs": [],
   "source": [
    "image.show()"
   ]
  },
  {
   "cell_type": "code",
   "execution_count": null,
   "metadata": {},
   "outputs": [],
   "source": []
  }
 ],
 "metadata": {
  "kernelspec": {
   "display_name": "Python 3.9.7 64-bit",
   "language": "python",
   "name": "python3"
  },
  "language_info": {
   "codemirror_mode": {
    "name": "ipython",
    "version": 3
   },
   "file_extension": ".py",
   "mimetype": "text/x-python",
   "name": "python",
   "nbconvert_exporter": "python",
   "pygments_lexer": "ipython3",
   "version": "3.9.7"
  },
  "orig_nbformat": 4,
  "vscode": {
   "interpreter": {
    "hash": "56a750cbe42c4d2c603ed2ab4b5515b9f652cac50e0ba7b0c0a65e6091fdebee"
   }
  }
 },
 "nbformat": 4,
 "nbformat_minor": 2
}
